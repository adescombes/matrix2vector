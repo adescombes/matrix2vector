{
  "metadata": {
    "kernelspec": {
      "name": "python",
      "display_name": "Python (Pyodide)",
      "language": "python"
    },
    "language_info": {
      "codemirror_mode": {
        "name": "python",
        "version": 3
      },
      "file_extension": ".py",
      "mimetype": "text/x-python",
      "name": "python",
      "nbconvert_exporter": "python",
      "pygments_lexer": "ipython3",
      "version": "3.8"
    }
  },
  "nbformat_minor": 4,
  "nbformat": 4,
  "cells": [
    {
      "cell_type": "code",
      "source": "from functions import config_1, config_2\nimport pandas as pd",
      "metadata": {
        "trusted": true
      },
      "outputs": [],
      "execution_count": null
    },
    {
      "cell_type": "code",
      "source": "input_file = ...\n\noutput_file = ...",
      "metadata": {
        "trusted": true
      },
      "outputs": [],
      "execution_count": null
    },
    {
      "cell_type": "code",
      "source": "writer = pd.ExcelWriter(output_file, engine = 'xlsxwriter')\nexcel_file = pd.ExcelFile(input_file)\nsheet_names_list = excel_file.sheet_names\n\nfor s_n in sheet_names_list:\n    print(\"Reading file, sheet %s\" % s_n)\n\n    try:   \n        df_vector = config_1(excel_file, s_n, writer)\n        print('try')\n        df_vector.to_excel(writer, index = False, sheet_name = s_n)\n\n    except:\n        print('except')\n\nwriter.close()\nprint('Vector saved : %s' % output_file)",
      "metadata": {
        "trusted": true
      },
      "outputs": [],
      "execution_count": null
    },
    {
      "cell_type": "code",
      "source": "writer = pd.ExcelWriter(output_file, engine = 'xlsxwriter')\nexcel_file = pd.ExcelFile(input_file)\nsheet_names_list = excel_file.sheet_names\n\nfor s_n in sheet_names_list:\n    print(\"Reading file, sheet %s\" % s_n)\n\n    try:   \n        df_vector = config_2(excel_file, s_n, writer)\n        print('try')\n        df_vector.to_excel(writer, index = False, sheet_name = s_n)\n\n    except:\n        print('except')\n\nwriter.close()\nprint('Vector saved : %s' % output_file)",
      "metadata": {
        "trusted": true
      },
      "outputs": [],
      "execution_count": null
    }
  ]
}